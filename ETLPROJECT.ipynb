{
 "cells": [
  {
   "cell_type": "markdown",
   "metadata": {},
   "source": [
    "UNEMPLOYMENT -  LU_PE_NUM\n",
    "EMPLOYMENT - LE_PE_NUM\n",
    "POPULATION - LP_PE_NUM\n",
    "GDP - NC_GDP_PT\n",
    "\n",
    "Also, please be aware of the following rate limits and throttle your requests accordingly:\n",
    "\n",
    "    10 requests in 5 second window from one user (IP)\n",
    "    50 requests per second overall on the application"
   ]
  },
  {
   "cell_type": "code",
   "execution_count": 6,
   "metadata": {},
   "outputs": [
    {
     "name": "stdout",
     "output_type": "stream",
     "text": [
      "Collecting psycopg2-binary\n",
      "\u001b[?25l  Downloading https://files.pythonhosted.org/packages/d3/9d/7e90234ea582810a64df845779048c6d47f5d6e2e74746d89e44d095cc07/psycopg2_binary-2.8.5-cp37-cp37m-macosx_10_6_intel.macosx_10_9_intel.macosx_10_9_x86_64.macosx_10_10_intel.macosx_10_10_x86_64.whl (1.5MB)\n",
      "\u001b[K     |████████████████████████████████| 1.6MB 805kB/s eta 0:00:01\n",
      "\u001b[?25hInstalling collected packages: psycopg2-binary\n",
      "Successfully installed psycopg2-binary-2.8.5\n",
      "Note: you may need to restart the kernel to use updated packages.\n"
     ]
    }
   ],
   "source": [
    "pip install psycopg2-binary"
   ]
  },
  {
   "cell_type": "code",
   "execution_count": 22,
   "metadata": {},
   "outputs": [],
   "source": [
    "import requests\n",
    "import pprint\n",
    "import pandas as pd\n",
    "import config as cfg\n",
    "import time\n",
    "import sys\n",
    "from sqlalchemy import create_engine\n",
    "from datetime import datetime\n",
    "from pprint import pprint"
   ]
  },
  {
   "cell_type": "code",
   "execution_count": null,
   "metadata": {},
   "outputs": [],
   "source": [
    "url = 'http://dataservices.imf.org/REST/SDMX_JSON.svc/'"
   ]
  },
  {
   "cell_type": "code",
   "execution_count": 39,
   "metadata": {},
   "outputs": [],
   "source": [
    "def getJsonCountry(index, country):\n",
    "    key = f'CompactData/IFS/A.{country}.{index}'\n",
    "    data = requests.get(f'{url}{key}').json()\n",
    "    return data['CompactData']['DataSet']['Series']\n",
    "\n",
    "def getDataSets():\n",
    "    key = 'Dataflow'\n",
    "    data = request.get('f{}')\n",
    "\n",
    "\n",
    "def createDataList(json):\n",
    "    data = json['Obs']\n",
    "    timestamp = datetime.now().strftime(\"%Y-%m-%d %H:%M:%S\")\n",
    "    \n",
    "    if isinstance(data, list):\n",
    "        data_list = [(json.get('@REF_AREA'), json.get('@UNIT_MULT'), obs.get('@TIME_PERIOD'), obs.get('@OBS_VALUE'), timestamp) for obs in data]\n",
    "    else:\n",
    "        data_list = [(json.get('@REF_AREA'), json.get('@UNIT_MULT'), data.get('@TIME_PERIOD'), data.get('@OBS_VALUE'))]\n",
    "    \n",
    "    return data_list\n",
    "\n",
    "def getDataStructure(dataSet):\n",
    "    key = f\"DataStructure/{dataSet}\"\n",
    "    dimension_list = requests.get(f'{url}{key}').json()\n",
    "    return dimension_list\n",
    "\n",
    "def getCountrylistIFS():\n",
    "    codes = getDataStructure('IFS')[\"Structure\"][\"CodeLists\"][\"CodeList\"]\n",
    "    countries = [(country[\"@value\"], country[\"Description\"][\"#text\"]) for country in codes[2]['Code']]\n",
    "    return countries\n",
    "    \n",
    "\n",
    "def insertIntoTable(table, tblList):\n",
    "    tblList = ','.join([str(obs) for obs in tblList])  \n",
    "    engine.execute(\"INSERT INTO \" + table +\" VALUES \" + tblList)\n",
    "\n",
    "def getSqlTableCreateStr(tblName, **fields):\n",
    "    sqlstr = ', '.join([' '.join([key, str(val)]) for key, val in fields.items()])\n",
    "    sqlstr = f'CREATE TABLE IF NOT EXISTS {tblName}({sqlstr})' \n",
    "    return sqlstr"
   ]
  },
  {
   "cell_type": "code",
   "execution_count": 32,
   "metadata": {},
   "outputs": [],
   "source": [
    "def insertIntoCountries(countryList, IndexName, secsWait, engine):\n",
    "\n",
    "    engine.execute(getSqlTableCreateStr(IndexName, REF_AREA='VARCHAR(5)', UNIT_MULT='INT', TIME_PERIOD='INT', VALUE='NUMERIC(18,5)', TIMESTAMP='TIMESTAMP'))\n",
    "\n",
    "    for country in countryList:\n",
    "    \n",
    "        try:\n",
    "            datacountry = getJsonCountry(IndexName,country)\n",
    "            datacountry = createDataList(datacountry)\n",
    "            insertIntoTable(IndexName, datacountry)\n",
    "            print(f\"Country {country} exctracted sucessfully for Indicator {IndexName}\")\n",
    "        except:\n",
    "            print(f\"Error ocurred while processing {IndexName} for {country} : {sys.exc_info()[0]}\")\n",
    "\n",
    "        time.sleep(secsWait)\n"
   ]
  },
  {
   "cell_type": "code",
   "execution_count": 40,
   "metadata": {},
   "outputs": [
    {
     "ename": "JSONDecodeError",
     "evalue": "Unexpected UTF-8 BOM (decode using utf-8-sig): line 1 column 1 (char 0)",
     "output_type": "error",
     "traceback": [
      "\u001b[0;31m---------------------------------------------------------------------------\u001b[0m",
      "\u001b[0;31mJSONDecodeError\u001b[0m                           Traceback (most recent call last)",
      "\u001b[0;32m<ipython-input-40-143bcd08e902>\u001b[0m in \u001b[0;36m<module>\u001b[0;34m\u001b[0m\n\u001b[0;32m----> 1\u001b[0;31m \u001b[0mpprint\u001b[0m\u001b[0;34m(\u001b[0m\u001b[0mgetDataSets\u001b[0m\u001b[0;34m(\u001b[0m\u001b[0;34m)\u001b[0m\u001b[0;34m)\u001b[0m\u001b[0;34m\u001b[0m\u001b[0;34m\u001b[0m\u001b[0m\n\u001b[0m",
      "\u001b[0;32m<ipython-input-39-2d03cd66a0d6>\u001b[0m in \u001b[0;36mgetDataSets\u001b[0;34m()\u001b[0m\n\u001b[1;32m      5\u001b[0m \u001b[0;34m\u001b[0m\u001b[0m\n\u001b[1;32m      6\u001b[0m \u001b[0;32mdef\u001b[0m \u001b[0mgetDataSets\u001b[0m\u001b[0;34m(\u001b[0m\u001b[0;34m)\u001b[0m\u001b[0;34m:\u001b[0m\u001b[0;34m\u001b[0m\u001b[0;34m\u001b[0m\u001b[0m\n\u001b[0;32m----> 7\u001b[0;31m     \u001b[0;32mreturn\u001b[0m \u001b[0mrequests\u001b[0m\u001b[0;34m.\u001b[0m\u001b[0mget\u001b[0m\u001b[0;34m(\u001b[0m\u001b[0;34m'http://dataservices.imf.org/REST/SDMX_XML.svc/Dataflow'\u001b[0m\u001b[0;34m)\u001b[0m\u001b[0;34m.\u001b[0m\u001b[0mjson\u001b[0m\u001b[0;34m(\u001b[0m\u001b[0;34m)\u001b[0m\u001b[0;34m\u001b[0m\u001b[0;34m\u001b[0m\u001b[0m\n\u001b[0m\u001b[1;32m      8\u001b[0m \u001b[0;34m\u001b[0m\u001b[0m\n\u001b[1;32m      9\u001b[0m \u001b[0;32mdef\u001b[0m \u001b[0mcreateDataList\u001b[0m\u001b[0;34m(\u001b[0m\u001b[0mjson\u001b[0m\u001b[0;34m)\u001b[0m\u001b[0;34m:\u001b[0m\u001b[0;34m\u001b[0m\u001b[0;34m\u001b[0m\u001b[0m\n",
      "\u001b[0;32m~/anaconda3/lib/python3.7/site-packages/requests/models.py\u001b[0m in \u001b[0;36mjson\u001b[0;34m(self, **kwargs)\u001b[0m\n\u001b[1;32m    895\u001b[0m                     \u001b[0;31m# used.\u001b[0m\u001b[0;34m\u001b[0m\u001b[0;34m\u001b[0m\u001b[0;34m\u001b[0m\u001b[0m\n\u001b[1;32m    896\u001b[0m                     \u001b[0;32mpass\u001b[0m\u001b[0;34m\u001b[0m\u001b[0;34m\u001b[0m\u001b[0m\n\u001b[0;32m--> 897\u001b[0;31m         \u001b[0;32mreturn\u001b[0m \u001b[0mcomplexjson\u001b[0m\u001b[0;34m.\u001b[0m\u001b[0mloads\u001b[0m\u001b[0;34m(\u001b[0m\u001b[0mself\u001b[0m\u001b[0;34m.\u001b[0m\u001b[0mtext\u001b[0m\u001b[0;34m,\u001b[0m \u001b[0;34m**\u001b[0m\u001b[0mkwargs\u001b[0m\u001b[0;34m)\u001b[0m\u001b[0;34m\u001b[0m\u001b[0;34m\u001b[0m\u001b[0m\n\u001b[0m\u001b[1;32m    898\u001b[0m \u001b[0;34m\u001b[0m\u001b[0m\n\u001b[1;32m    899\u001b[0m     \u001b[0;34m@\u001b[0m\u001b[0mproperty\u001b[0m\u001b[0;34m\u001b[0m\u001b[0;34m\u001b[0m\u001b[0m\n",
      "\u001b[0;32m~/anaconda3/lib/python3.7/json/__init__.py\u001b[0m in \u001b[0;36mloads\u001b[0;34m(s, encoding, cls, object_hook, parse_float, parse_int, parse_constant, object_pairs_hook, **kw)\u001b[0m\n\u001b[1;32m    336\u001b[0m         \u001b[0;32mif\u001b[0m \u001b[0ms\u001b[0m\u001b[0;34m.\u001b[0m\u001b[0mstartswith\u001b[0m\u001b[0;34m(\u001b[0m\u001b[0;34m'\\ufeff'\u001b[0m\u001b[0;34m)\u001b[0m\u001b[0;34m:\u001b[0m\u001b[0;34m\u001b[0m\u001b[0;34m\u001b[0m\u001b[0m\n\u001b[1;32m    337\u001b[0m             raise JSONDecodeError(\"Unexpected UTF-8 BOM (decode using utf-8-sig)\",\n\u001b[0;32m--> 338\u001b[0;31m                                   s, 0)\n\u001b[0m\u001b[1;32m    339\u001b[0m     \u001b[0;32melse\u001b[0m\u001b[0;34m:\u001b[0m\u001b[0;34m\u001b[0m\u001b[0;34m\u001b[0m\u001b[0m\n\u001b[1;32m    340\u001b[0m         \u001b[0;32mif\u001b[0m \u001b[0;32mnot\u001b[0m \u001b[0misinstance\u001b[0m\u001b[0;34m(\u001b[0m\u001b[0ms\u001b[0m\u001b[0;34m,\u001b[0m \u001b[0;34m(\u001b[0m\u001b[0mbytes\u001b[0m\u001b[0;34m,\u001b[0m \u001b[0mbytearray\u001b[0m\u001b[0;34m)\u001b[0m\u001b[0;34m)\u001b[0m\u001b[0;34m:\u001b[0m\u001b[0;34m\u001b[0m\u001b[0;34m\u001b[0m\u001b[0m\n",
      "\u001b[0;31mJSONDecodeError\u001b[0m: Unexpected UTF-8 BOM (decode using utf-8-sig): line 1 column 1 (char 0)"
     ]
    }
   ],
   "source": [
    "pprint(getDataSets())"
   ]
  },
  {
   "cell_type": "markdown",
   "metadata": {},
   "source": [
    "---------------------------------------------------\n",
    "INPUT DATA\n",
    "- LIST COUNTRIES\n",
    "- LIST INDEXES\n",
    "----------------------------------------------------"
   ]
  },
  {
   "cell_type": "code",
   "execution_count": 33,
   "metadata": {},
   "outputs": [],
   "source": [
    "#countries = getCountrylistIFS()\n",
    "#abr_countries = [country[0] for country in countries]\n",
    "countries = ['MX','DE','RU','BR','CO']\n",
    "indexes = ['LU_PE_NUM', 'LE_PE_NUM', 'LP_PE_NUM', 'NGDP_XDC']"
   ]
  },
  {
   "cell_type": "code",
   "execution_count": 34,
   "metadata": {},
   "outputs": [],
   "source": [
    "con_string = 'postgresql://postgres:' + cfg.dbpassword + '@localhost:5432/' + cfg.dbname\n",
    "engine = create_engine(con_string)\n",
    "connection = engine.connect()"
   ]
  },
  {
   "cell_type": "code",
   "execution_count": 35,
   "metadata": {},
   "outputs": [
    {
     "name": "stdout",
     "output_type": "stream",
     "text": [
      "Country MX exctracted sucessfully for Indicator LU_PE_NUM\n",
      "Country DE exctracted sucessfully for Indicator LU_PE_NUM\n",
      "Country RU exctracted sucessfully for Indicator LU_PE_NUM\n",
      "Country BR exctracted sucessfully for Indicator LU_PE_NUM\n",
      "Country CO exctracted sucessfully for Indicator LU_PE_NUM\n",
      "Country MX exctracted sucessfully for Indicator LE_PE_NUM\n",
      "Country DE exctracted sucessfully for Indicator LE_PE_NUM\n",
      "Country RU exctracted sucessfully for Indicator LE_PE_NUM\n",
      "Country BR exctracted sucessfully for Indicator LE_PE_NUM\n",
      "Country CO exctracted sucessfully for Indicator LE_PE_NUM\n",
      "Country MX exctracted sucessfully for Indicator LP_PE_NUM\n",
      "Country DE exctracted sucessfully for Indicator LP_PE_NUM\n",
      "Country RU exctracted sucessfully for Indicator LP_PE_NUM\n",
      "Country BR exctracted sucessfully for Indicator LP_PE_NUM\n",
      "Country CO exctracted sucessfully for Indicator LP_PE_NUM\n",
      "Country MX exctracted sucessfully for Indicator NGDP_XDC\n",
      "Country DE exctracted sucessfully for Indicator NGDP_XDC\n",
      "Country RU exctracted sucessfully for Indicator NGDP_XDC\n",
      "Country BR exctracted sucessfully for Indicator NGDP_XDC\n",
      "Country CO exctracted sucessfully for Indicator NGDP_XDC\n"
     ]
    }
   ],
   "source": [
    "\n",
    "for index in indexes:\n",
    "    insertIntoCountries(countries, index, 3, engine)\n"
   ]
  },
  {
   "cell_type": "code",
   "execution_count": null,
   "metadata": {},
   "outputs": [],
   "source": [
    "dataStructure = getDataStructure(\"IFS\")"
   ]
  }
 ],
 "metadata": {
  "kernelspec": {
   "display_name": "Python 3",
   "language": "python",
   "name": "python3"
  },
  "language_info": {
   "codemirror_mode": {
    "name": "ipython",
    "version": 3
   },
   "file_extension": ".py",
   "mimetype": "text/x-python",
   "name": "python",
   "nbconvert_exporter": "python",
   "pygments_lexer": "ipython3",
   "version": "3.7.4"
  }
 },
 "nbformat": 4,
 "nbformat_minor": 4
}
